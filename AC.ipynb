{
 "cells": [
  {
   "cell_type": "code",
   "execution_count": 1,
   "metadata": {},
   "outputs": [],
   "source": [
    "from typing import Any, Dict\n",
    "import gym\n",
    "import numpy as np\n",
    "import tensorflow as tf\n",
    "from tensorflow_probability.python.distributions import JohnsonSU\n",
    "from tensorflow import keras\n",
    "import matplotlib.pyplot as plt\n",
    "%matplotlib inline"
   ]
  },
  {
   "cell_type": "code",
   "execution_count": 2,
   "metadata": {},
   "outputs": [],
   "source": [
    "class PreProcessor:\n",
    "    def __init__(self, env: gym.Env, name: str='preprocessor') -> None:\n",
    "        self.__name__ = name\n",
    "        self.env = env\n",
    "        self.state_params = self.get_mu_sigma(self.env)\n",
    "\n",
    "    def get_mu_sigma(self, env: gym.Env):\n",
    "        highs: tuple[float, float] = env.observation_space.high  # type: ignore\n",
    "        lows: tuple[float, float] = env.observation_space.low  # type: ignore\n",
    "        loc_extremes = [lows[0], highs[0]]\n",
    "        vel_extremes = [lows[1], highs[1]]\n",
    "        return np.array([loc_extremes, vel_extremes])\n",
    "\n",
    "    def min_max_normalize(self, state):\n",
    "        if not isinstance(state, np.ndarray):\n",
    "            state=np.array(state, dtype=np.float32)\n",
    "        result = (state - self.state_params[0:, 0]) / \\\n",
    "            (self.state_params[0:, 1] - self.state_params[0:, 0])\n",
    "        return result*2 - 1\n",
    "\n",
    "    def call(self, state: np.ndarray) -> np.ndarray:\n",
    "        return self.min_max_normalize(state)"
   ]
  },
  {
   "cell_type": "code",
   "execution_count": 3,
   "metadata": {},
   "outputs": [],
   "source": [
    "class params(tf.keras.layers.Layer):\n",
    "    def __init__(self, trainable:bool=True, name:str='params', dtype=None, dynamic:bool=False, **kwargs):\n",
    "        super(params, self).__init__(trainable=trainable,\n",
    "                                     name=name, dtype=dtype, dynamic=dynamic, **kwargs)\n",
    "\n",
    "    def call(self, inputs, **kwds: Any):\n",
    "        probs0, probs1, mu, sigma = tf.split(inputs, 4, axis=-1)\n",
    "        probs = tf.concat([probs0, probs1], axis=-1)\n",
    "        choice = tf.random.categorical(logits=tf.math.log(\n",
    "            probs), num_samples=1, dtype=tf.int32)\n",
    "        PARAMS = tf.constant([[-1.8, 2.5], [1.8, 2.5]],\n",
    "                             dtype=tf.float32, shape=(2, 2))\n",
    "        params = tf.gather(PARAMS, indices=choice, axis=1)\n",
    "        skew, tail = tf.split(params, 2, axis=0)\n",
    "        dist = JohnsonSU(loc=mu, scale=sigma, skewness=skew, tailweight=tail)\n",
    "        action = dist.sample()\n",
    "        action = tf.reshape(action, [1, 1])\n",
    "        choice = tf.cast(choice, tf.float32)\n",
    "        result = tf.concat([action, choice, probs0, probs1], axis=-1)\n",
    "        return result\n",
    "\n",
    "    def get_config(self):\n",
    "        config = super(params, self).get_config()\n",
    "        return config"
   ]
  },
  {
   "cell_type": "code",
   "execution_count": 4,
   "metadata": {},
   "outputs": [],
   "source": [
    "def policy_loss(y_true, y_pred):\n",
    "    action_choice_probs = y_pred\n",
    "    action, choice, probs0, probs1 = tf.split(action_choice_probs, 4, axis=-1)\n",
    "    probs = tf.concat([probs0, probs1], axis=-1)\n",
    "    state = y_true\n",
    "    _, vel = tf.split(state, 2, axis=-1)\n",
    "    reference = JohnsonSU(loc=tf.sign(tf.squeeze(vel))*1.2,\n",
    "                          scale=tf.constant(0.35), skewness=tf.sign(tf.squeeze(vel))*1.35, tailweight=tf.constant(1.25))\n",
    "    action = tf.squeeze(action)\n",
    "    choice = tf.squeeze(choice)\n",
    "    probs = tf.squeeze(probs)\n",
    "    loss_0 = -reference.log_prob(action)\n",
    "    loss_1 = tf.keras.losses.sparse_categorical_crossentropy(choice, probs)\n",
    "    loss = tf.math.add(loss_0, loss_1)\n",
    "    return loss\n"
   ]
  },
  {
   "cell_type": "code",
   "execution_count": 5,
   "metadata": {},
   "outputs": [],
   "source": [
    "def make_policy(lr):\n",
    "    ones = tf.initializers.Ones()\n",
    "    input = tf.keras.layers.Input(shape=(2), batch_size=1, dtype='float32')\n",
    "    flatten = tf.keras.layers.Flatten()(input)\n",
    "    dense_probs = tf.keras.layers.Dense(\n",
    "        64, activation=tf.keras.activations.linear)(flatten)\n",
    "    probs = tf.keras.layers.Dense(\n",
    "        2, activation=tf.keras.activations.softmax)(dense_probs)\n",
    "    mu = tf.keras.layers.Dense(64, activation=tf.keras.activations.linear)(\n",
    "        flatten)\n",
    "    sigma = tf.keras.layers.Dense(\n",
    "        64, activation=tf.keras.activations.linear)(flatten)\n",
    "    mu = tf.keras.layers.Dense(1, activation=tf.keras.activations.linear)(mu)\n",
    "    sigma = tf.keras.layers.Dense(\n",
    "        1, activation=tf.keras.activations.exponential, kernel_initializer=ones)(sigma)  # type: ignore\n",
    "    vars = tf.keras.layers.Concatenate(axis=-1)([mu, sigma])\n",
    "    inpts = tf.keras.layers.Concatenate(axis=-1)([probs, vars])\n",
    "    action_choice_probs = params()(inpts)\n",
    "    value_est = tf.keras.layers.Dense(\n",
    "        64, activation=tf.keras.activations.linear)(flatten)\n",
    "    value_est = tf.keras.layers.Dense(\n",
    "        1, activation=tf.keras.activations.linear)(value_est)\n",
    "    policy = tf.keras.Model(inputs=input, outputs=[\n",
    "                            action_choice_probs, value_est])\n",
    "    policy.compile(optimizer=tf.keras.optimizers.Adam(learning_rate=lr), loss=[policy_loss,\n",
    "                                                                               tf.keras.losses.mean_absolute_error], loss_weights=[0.90, 0.10])\n",
    "    return policy\n",
    "    "
   ]
  },
  {
   "cell_type": "code",
   "execution_count": 6,
   "metadata": {},
   "outputs": [],
   "source": [
    "\n",
    "def run_episode(num_steps: int, env: gym.Env, policy: tf.keras.Model, preprocessor: PreProcessor):\n",
    "    done0, done1 = False, False\n",
    "    step = -1\n",
    "    pol_losses = []\n",
    "    s0, _ = env.reset()\n",
    "    s0 = np.expand_dims(s0, 0)\n",
    "    s0 = preprocessor.call(s0)\n",
    "    gamma = 0.99\n",
    "    lambda_ = 1.0\n",
    "    while not (done0 or done1):\n",
    "        step += 1\n",
    "        action_choice_probs, _ = policy(s0)  # type: ignore\n",
    "        action, _, _, _ = np.split(\n",
    "            action_choice_probs, 4, axis=-1)\n",
    "\n",
    "        action = np.clip(np.squeeze(action), -1.0, 1.0)\n",
    "        s1, reward, done0, done1, _ = env.step([action])\n",
    "        s1 = np.expand_dims(s1, 0)\n",
    "        s1 = preprocessor.call(s1)\n",
    "        pol_step_loss = policy.train_on_batch(\n",
    "            s0, y=[np.array([s0]), np.array([reward])], reset_metrics=False)\n",
    "        pol_losses.append(pol_step_loss[0])\n",
    "        if step == num_steps:\n",
    "            done1 = True\n",
    "        else:\n",
    "            s0 = s1\n",
    "            if not lambda_ == 0.0:\n",
    "                if not np.can_cast(lambda_*gamma, np.float32):\n",
    "                    lambda_ = 0.0\n",
    "                else:\n",
    "                    lambda_ = lambda_ * gamma\n",
    "    return pol_losses, step, policy"
   ]
  },
  {
   "cell_type": "code",
   "execution_count": 7,
   "metadata": {},
   "outputs": [],
   "source": [
    "def actor_critic(num_steps:int, num_episodes:int, env: gym.Env, lr:float):\n",
    "    i = -1\n",
    "    preprocessor = PreProcessor(env)\n",
    "    policy = make_policy(lr)\n",
    "    loss_dict: Dict[str, list[float]] = {}\n",
    "    loss_dict['pol_losses'] = []\n",
    "    for _ in range(1, num_episodes+1):\n",
    "        i += 1\n",
    "        print('Beginning episode ', i, '...')\n",
    "        pol_losses, steps, policy = run_episode(\n",
    "            num_steps, env, policy, preprocessor)\n",
    "        loss_dict['pol_losses'].extend(pol_losses)\n",
    "        print('Episode ', i, ' completed in ', steps, ' steps.\\n\\n')\n",
    "    return policy, loss_dict, env"
   ]
  },
  {
   "cell_type": "code",
   "execution_count": 8,
   "metadata": {},
   "outputs": [
    {
     "name": "stdout",
     "output_type": "stream",
     "text": [
      "Beginning episode  0 ...\n",
      "Episode  0  completed in  91  steps.\n",
      "\n",
      "\n",
      "Beginning episode  1 ...\n",
      "Episode  1  completed in  121  steps.\n",
      "\n",
      "\n",
      "Beginning episode  2 ...\n",
      "Episode  2  completed in  88  steps.\n",
      "\n",
      "\n",
      "Beginning episode  3 ...\n",
      "Episode  3  completed in  97  steps.\n",
      "\n",
      "\n",
      "Beginning episode  4 ...\n",
      "Episode  4  completed in  183  steps.\n",
      "\n",
      "\n"
     ]
    }
   ],
   "source": [
    "lr = 0.01\n",
    "num_steps = 600\n",
    "num_episodes = 5\n",
    "env = gym.make('MountainCarContinuous-v0')    \n",
    "policy, losses_dict, env = actor_critic(\n",
    "num_steps, num_episodes, env, lr)\n",
    "env.close()\n"
   ]
  },
  {
   "cell_type": "code",
   "execution_count": 9,
   "metadata": {},
   "outputs": [
    {
     "data": {
      "text/plain": [
       "[<matplotlib.lines.Line2D at 0x2375eaf1520>]"
      ]
     },
     "execution_count": 9,
     "metadata": {},
     "output_type": "execute_result"
    },
    {
     "data": {
      "image/png": "[encoded data removed]",
      "text/plain": [
       "<Figure size 1000x700 with 1 Axes>"
      ]
     },
     "metadata": {},
     "output_type": "display_data"
    }
   ],
   "source": [
    "fig, ax = plt.subplots(1, 1, figsize=(10, 7))\n",
    "k,v = list(losses_dict.keys())[0], list(losses_dict.values())[0]\n",
    "ax.plot(v, label=k)"
   ]
  },
  {
   "cell_type": "code",
   "execution_count": 10,
   "metadata": {},
   "outputs": [
    {
     "name": "stdout",
     "output_type": "stream",
     "text": [
      "94.60278154716636\n"
     ]
    }
   ],
   "source": [
    "env2 = gym.make(id=\"MountainCarContinuous-v0\", render_mode='human')\n",
    "preprocessor = PreProcessor(env2)\n",
    "actions = np.array([], dtype=np.float32)\n",
    "num_episodes = 1\n",
    "for _ in range(num_episodes):\n",
    "    try:\n",
    "        s0, _ = env2.reset()\n",
    "        env2.render()\n",
    "        done0, done1 = False, False\n",
    "        total_reward = 0.\n",
    "        while not (done0 or done1):\n",
    "            s0 = np.expand_dims(s0, 0)\n",
    "            s0 = preprocessor.call(s0)\n",
    "            action_choice_probs, _ = policy(s0)  # type: ignore\n",
    "            action, _, _, _ = np.split(action_choice_probs, 4, axis=-1)\n",
    "            action = np.clip(np.squeeze(action), -1.0, 1.0)\n",
    "            actions = np.append(actions, float(action))\n",
    "\n",
    "            s0, reward, done0, done1, _ = env2.step([float(action)])\n",
    "            env2.render()\n",
    "            total_reward += reward\n",
    "        print(total_reward)\n",
    "    except Exception as e:\n",
    "        env2.close()\n",
    "        raise e\n",
    "env2.close()\n",
    "actions = np.round(actions, 4)"
   ]
  },
  {
   "cell_type": "code",
   "execution_count": 11,
   "metadata": {},
   "outputs": [
    {
     "name": "stdout",
     "output_type": "stream",
     "text": [
      "Model: \"model\"\n",
      "__________________________________________________________________________________________________\n",
      " Layer (type)                   Output Shape         Param #     Connected to                     \n",
      "==================================================================================================\n",
      " input_1 (InputLayer)           [(1, 2)]             0           []                               \n",
      "                                                                                                  \n",
      " flatten (Flatten)              (1, 2)               0           ['input_1[0][0]']                \n",
      "                                                                                                  \n",
      " dense_2 (Dense)                (1, 64)              192         ['flatten[0][0]']                \n",
      "                                                                                                  \n",
      " dense_3 (Dense)                (1, 64)              192         ['flatten[0][0]']                \n",
      "                                                                                                  \n",
      " dense (Dense)                  (1, 64)              192         ['flatten[0][0]']                \n",
      "                                                                                                  \n",
      " dense_4 (Dense)                (1, 1)               65          ['dense_2[0][0]']                \n",
      "                                                                                                  \n",
      " dense_5 (Dense)                (1, 1)               65          ['dense_3[0][0]']                \n",
      "                                                                                                  \n",
      " dense_1 (Dense)                (1, 2)               130         ['dense[0][0]']                  \n",
      "                                                                                                  \n",
      " concatenate (Concatenate)      (1, 2)               0           ['dense_4[0][0]',                \n",
      "                                                                  'dense_5[0][0]']                \n",
      "                                                                                                  \n",
      " concatenate_1 (Concatenate)    (1, 4)               0           ['dense_1[0][0]',                \n",
      "                                                                  'concatenate[0][0]']            \n",
      "                                                                                                  \n",
      " dense_6 (Dense)                (1, 64)              192         ['flatten[0][0]']                \n",
      "                                                                                                  \n",
      " params (params)                (1, 4)               0           ['concatenate_1[0][0]']          \n",
      "                                                                                                  \n",
      " dense_7 (Dense)                (1, 1)               65          ['dense_6[0][0]']                \n",
      "                                                                                                  \n",
      "==================================================================================================\n",
      "Total params: 1,093\n",
      "Trainable params: 1,093\n",
      "Non-trainable params: 0\n",
      "__________________________________________________________________________________________________\n"
     ]
    }
   ],
   "source": [
    "policy.summary()"
   ]
  },
  {
   "cell_type": "code",
   "execution_count": 12,
   "metadata": {},
   "outputs": [
    {
     "name": "stdout",
     "output_type": "stream",
     "text": [
      "323\n"
     ]
    }
   ],
   "source": [
    "print(len(actions))"
   ]
  },
  {
   "cell_type": "code",
   "execution_count": 13,
   "metadata": {},
   "outputs": [
    {
     "data": {
      "image/png": "[encoded data removed]",
      "text/plain": [
       "<Figure size 1000x500 with 1 Axes>"
      ]
     },
     "metadata": {},
     "output_type": "display_data"
    }
   ],
   "source": [
    "fig, ax = plt.subplots(nrows=1, ncols=1, figsize=(10, 5))\n",
    "ax.plot(actions, label='action')\n",
    "ax.legend()\n",
    "plt.show()\n",
    "plt.close()"
   ]
  },
  {
   "cell_type": "code",
   "execution_count": 14,
   "metadata": {},
   "outputs": [
    {
     "name": "stdout",
     "output_type": "stream",
     "text": [
      "[<tf.Tensor: shape=(1, 4), dtype=float32, numpy=\n",
      "array([[9.870893e-01, 0.000000e+00, 9.999981e-01, 1.922320e-06]],\n",
      "      dtype=float32)>, <tf.Tensor: shape=(1, 1), dtype=float32, numpy=array([[-0.06912115]], dtype=float32)>]\n",
      "[<tf.Tensor: shape=(1, 4), dtype=float32, numpy=\n",
      "array([[9.8710406e-01, 0.0000000e+00, 9.9999809e-01, 1.9223201e-06]],\n",
      "      dtype=float32)>, <tf.Tensor: shape=(1, 1), dtype=float32, numpy=array([[-0.06912115]], dtype=float32)>]\n"
     ]
    }
   ],
   "source": [
    "policy.save('policy.h5')\n",
    "p2: tf.keras.Model = tf.keras.models.load_model('policy.h5', custom_objects={'policy_loss': policy_loss, 'params': params}, compile=True) # type: ignore\n",
    "preprocessor = PreProcessor(env)\n",
    "s=[0.1, 0.06]\n",
    "s=np.expand_dims(s, 0)\n",
    "s=preprocessor.call(s)\n",
    "print(policy(s))\n",
    "print(p2(s))"
   ]
  }
 ],
 "metadata": {
  "kernelspec": {
   "display_name": "tensorflow",
   "language": "python",
   "name": "python3"
  },
  "language_info": {
   "codemirror_mode": {
    "name": "ipython",
    "version": 3
   },
   "file_extension": ".py",
   "mimetype": "text/x-python",
   "name": "python",
   "nbconvert_exporter": "python",
   "pygments_lexer": "ipython3",
   "version": "3.9.0"
  },
  "orig_nbformat": 4,
  "vscode": {
   "interpreter": {
    "hash": "658bc36cd591e6387a2f76bd5940bbf4b5761707df02040844ec7407cc71632e"
   }
  }
 },
 "nbformat": 4,
 "nbformat_minor": 2
}
